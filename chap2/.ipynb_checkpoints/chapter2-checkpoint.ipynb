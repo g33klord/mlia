{
 "cells": [
  {
   "cell_type": "code",
   "execution_count": 41,
   "metadata": {},
   "outputs": [],
   "source": [
    "import pandas as pd"
   ]
  },
  {
   "cell_type": "code",
   "execution_count": 42,
   "metadata": {},
   "outputs": [],
   "source": [
    "dataframe = pd.read_csv(\"https://raw.githubusercontent.com/pbharrin/machinelearninginaction/master/Ch02/datingTestSet.txt\", sep='\\t', lineterminator='\\n', names=[\"frequentFlyerMiles\", \"VideoGame\", \"IceCream\", \"likeness\"])"
   ]
  },
  {
   "cell_type": "code",
   "execution_count": 52,
   "metadata": {},
   "outputs": [
    {
     "data": {
      "text/plain": [
       "0      largeDoses\n",
       "1      smallDoses\n",
       "2       didntLike\n",
       "3       didntLike\n",
       "4       didntLike\n",
       "5       didntLike\n",
       "6      largeDoses\n",
       "7      largeDoses\n",
       "8       didntLike\n",
       "9      largeDoses\n",
       "10      didntLike\n",
       "11      didntLike\n",
       "12     smallDoses\n",
       "13      didntLike\n",
       "14      didntLike\n",
       "15      didntLike\n",
       "16      didntLike\n",
       "17      didntLike\n",
       "18     smallDoses\n",
       "19     largeDoses\n",
       "20     smallDoses\n",
       "21      didntLike\n",
       "22     smallDoses\n",
       "23     largeDoses\n",
       "24     smallDoses\n",
       "25     largeDoses\n",
       "26     smallDoses\n",
       "27     largeDoses\n",
       "28     smallDoses\n",
       "29      didntLike\n",
       "          ...    \n",
       "970    largeDoses\n",
       "971     didntLike\n",
       "972    smallDoses\n",
       "973     didntLike\n",
       "974    smallDoses\n",
       "975    largeDoses\n",
       "976     didntLike\n",
       "977    largeDoses\n",
       "978    smallDoses\n",
       "979    smallDoses\n",
       "980    smallDoses\n",
       "981    smallDoses\n",
       "982    smallDoses\n",
       "983    smallDoses\n",
       "984    smallDoses\n",
       "985    smallDoses\n",
       "986    smallDoses\n",
       "987    smallDoses\n",
       "988    smallDoses\n",
       "989    smallDoses\n",
       "990    largeDoses\n",
       "991    smallDoses\n",
       "992    smallDoses\n",
       "993    smallDoses\n",
       "994    smallDoses\n",
       "995    smallDoses\n",
       "996     didntLike\n",
       "997    largeDoses\n",
       "998    largeDoses\n",
       "999    largeDoses\n",
       "Name: likeness, Length: 1000, dtype: object"
      ]
     },
     "execution_count": 52,
     "metadata": {},
     "output_type": "execute_result"
    }
   ],
   "source": [
    "dataframe[\"likeness\"]"
   ]
  },
  {
   "cell_type": "code",
   "execution_count": 49,
   "metadata": {},
   "outputs": [
    {
     "data": {
      "text/plain": [
       "Index(['frequentFlyerMiles', 'VideoGame', 'IceCream', 'likeness'], dtype='object')"
      ]
     },
     "execution_count": 49,
     "metadata": {},
     "output_type": "execute_result"
    }
   ],
   "source": [
    "dataframe.columns"
   ]
  },
  {
   "cell_type": "code",
   "execution_count": null,
   "metadata": {},
   "outputs": [],
   "source": [
    "dataframe[]"
   ]
  }
 ],
 "metadata": {
  "kernelspec": {
   "display_name": "Python 3",
   "language": "python",
   "name": "python3"
  },
  "language_info": {
   "codemirror_mode": {
    "name": "ipython",
    "version": 3
   },
   "file_extension": ".py",
   "mimetype": "text/x-python",
   "name": "python",
   "nbconvert_exporter": "python",
   "pygments_lexer": "ipython3",
   "version": "3.6.4"
  }
 },
 "nbformat": 4,
 "nbformat_minor": 2
}
